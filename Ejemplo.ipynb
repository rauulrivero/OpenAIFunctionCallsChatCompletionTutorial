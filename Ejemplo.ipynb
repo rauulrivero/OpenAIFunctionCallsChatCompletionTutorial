{
 "cells": [
  {
   "cell_type": "markdown",
   "metadata": {},
   "source": [
    "# Guía básica para las llamadas de función en OpenAI con la api de ChatCompletion"
   ]
  },
  {
   "cell_type": "markdown",
   "metadata": {},
   "source": [
    "# EJEMPLO:"
   ]
  },
  {
   "cell_type": "markdown",
   "metadata": {},
   "source": [
    "### 1. Cargamos las librerías y nos conectamos a la api de OpenAI"
   ]
  },
  {
   "cell_type": "code",
   "execution_count": null,
   "metadata": {},
   "outputs": [],
   "source": [
    "from openai import OpenAI\n",
    "import json\n",
    "import os\n",
    "from dotenv import load_dotenv\n",
    "from datetime import datetime, timedelta\n",
    "\n",
    "# Load environment variables from the .env file\n",
    "load_dotenv()\n",
    "\n",
    "# Configure the OpenAI API key\n",
    "client = OpenAI(\n",
    "    api_key=os.getenv\n",
    "    (\"OPENAI_API_KEY\"),\n",
    ")\n",
    "\n",
    "GPT_MODEL = \"gpt-3.5-turbo-1106\""
   ]
  },
  {
   "cell_type": "markdown",
   "metadata": {},
   "source": [
    "### 2. Describimos las funciones que vamos a utilizar"
   ]
  },
  {
   "cell_type": "code",
   "execution_count": null,
   "metadata": {},
   "outputs": [],
   "source": [
    "\n",
    "function_descriptions = [\n",
    "    {\n",
    "        \"name\": \"get_flight_info\",\n",
    "        \"description\": \"Get flight information between two locations\",\n",
    "        \"parameters\": {\n",
    "            \"type\": \"object\",\n",
    "            \"properties\": {\n",
    "                \"loc_origin\": {\n",
    "                    \"type\": \"string\",\n",
    "                    \"description\": \"The departure airport, e.g. DUS\",\n",
    "                },\n",
    "                \"loc_destination\": {\n",
    "                    \"type\": \"string\",\n",
    "                    \"description\": \"The destination airport, e.g. HAM\",\n",
    "                },\n",
    "            },\n",
    "            \"required\": [\"loc_origin\", \"loc_destination\"],\n",
    "        },\n",
    "    },\n",
    "    {\n",
    "        \"name\": \"book_flight\",\n",
    "        \"description\": \"Book a flight based on flight information\",\n",
    "        \"parameters\": {\n",
    "            \"type\": \"object\",\n",
    "            \"properties\": {\n",
    "                \"loc_origin\": {\n",
    "                    \"type\": \"string\",\n",
    "                    \"description\": \"The departure airport, e.g. DUS\",\n",
    "                },\n",
    "                \"loc_destination\": {\n",
    "                    \"type\": \"string\",\n",
    "                    \"description\": \"The destination airport, e.g. HAM\",\n",
    "                },\n",
    "                \"datetime\": {\n",
    "                    \"type\": \"string\",\n",
    "                    \"description\": \"The date and time of the flight, e.g. 2023-01-01 01:01\",\n",
    "                },\n",
    "                \"airline\": {\n",
    "                    \"type\": \"string\",\n",
    "                    \"description\": \"The service airline, e.g. Lufthansa\",\n",
    "                },\n",
    "            },\n",
    "            \"required\": [\"loc_origin\", \"loc_destination\", \"datetime\", \"airline\"],\n",
    "        },\n",
    "    },\n",
    "    {\n",
    "        \"name\": \"file_complaint\",\n",
    "        \"description\": \"File a complaint as a customer\",\n",
    "        \"parameters\": {\n",
    "            \"type\": \"object\",\n",
    "            \"properties\": {\n",
    "                \"name\": {\n",
    "                    \"type\": \"string\",\n",
    "                    \"description\": \"The name of the user, e.g. John Doe\",\n",
    "                },\n",
    "                \"email\": {\n",
    "                    \"type\": \"string\",\n",
    "                    \"description\": \"The email address of the user, e.g. john@doe.com\",\n",
    "                },\n",
    "                \"text\": {\n",
    "                    \"type\": \"string\",\n",
    "                    \"description\": \"Description of issue\",\n",
    "                },\n",
    "            },\n",
    "            \"required\": [\"name\", \"email\", \"text\"],\n",
    "        },\n",
    "    },\n",
    "]\n"
   ]
  },
  {
   "cell_type": "markdown",
   "metadata": {},
   "source": [
    "### 3. Definimos las funciones (en este caso se han creado ejemplos de respuesta de consulta de una api)"
   ]
  },
  {
   "cell_type": "code",
   "execution_count": null,
   "metadata": {},
   "outputs": [],
   "source": [
    "def get_flight_info(loc_origin, loc_destination):\n",
    "    \"\"\"Get flight information between two locations.\"\"\"\n",
    "\n",
    "    # Example output returned from an API or database\n",
    "    flight_info = {\n",
    "        \"loc_origin\": loc_origin,\n",
    "        \"loc_destination\": loc_destination,\n",
    "        \"datetime\": str(datetime.now() + timedelta(hours=2)),\n",
    "        \"airline\": \"KLM\",\n",
    "        \"flight\": \"KL643\",\n",
    "    }\n",
    "\n",
    "    return json.dumps(flight_info)\n",
    "\n",
    "def book_flight(loc_origin, loc_destination, datetime, airline):\n",
    "    \"\"\"Book a flight based on flight information.\"\"\"\n",
    "\n",
    "    # Example output returned from an API or database\n",
    "    booking_info = {\n",
    "        \"loc_origin\": loc_origin,\n",
    "        \"loc_destination\": loc_destination,\n",
    "        \"datetime\": datetime,\n",
    "        \"airline\": airline,\n",
    "        \"flight\": \"KL643\",\n",
    "        \"booking_reference\": \"ABC123\",\n",
    "    }\n",
    "\n",
    "    return json.dumps(booking_info)\n",
    "\n",
    "def file_complaint(name, email, text):\n",
    "    \"\"\"File a complaint as a customer.\"\"\"\n",
    "\n",
    "    # Example output returned from an API or database\n",
    "    complaint_info = {\n",
    "        \"name\": name,\n",
    "        \"email\": email,\n",
    "        \"text\": text,\n",
    "        \"complaint_id\": \"XYZ789\",\n",
    "    }\n",
    "\n",
    "    return json.dumps(complaint_info)"
   ]
  },
  {
   "cell_type": "markdown",
   "metadata": {},
   "source": [
    "### 4. Definimos las funciones que vamos a usar para detectar la función que requiere el user_prompt y la respuesta generada."
   ]
  },
  {
   "cell_type": "code",
   "execution_count": null,
   "metadata": {},
   "outputs": [],
   "source": [
    "def detect_function(prompt):\n",
    "    \"\"\"Give LLM a given prompt and get an answer.\"\"\"\n",
    "\n",
    "    completion = client.chat.completions.create(\n",
    "        model=GPT_MODEL,\n",
    "        messages=[{\"role\": \"user\", \"content\": prompt}],\n",
    "\n",
    "        functions=function_descriptions,\n",
    "        function_call=\"auto\",  # specify the function call\n",
    "    )\n",
    "\n",
    "    output = completion.choices[0].message\n",
    "    return output\n",
    "\n",
    "def function_calling(prompt, function, content):\n",
    "    \"\"\"Give LLM a given prompt and get an answer.\"\"\"\n",
    "\n",
    "    completion = client.chat.completions.create(\n",
    "        model=GPT_MODEL,\n",
    "        messages=[{\"role\": \"user\", \"content\": prompt},\n",
    "                  {\"role\":\"function\", \"name\": function, \"content\": content}],\n",
    "\n",
    "        functions=function_descriptions,\n",
    "        function_call=\"auto\",  # specify the function call\n",
    "    )\n",
    "\n",
    "    output = completion.choices[0].message\n",
    "    return output\n"
   ]
  },
  {
   "cell_type": "markdown",
   "metadata": {},
   "source": [
    "### Creamos ejemplos de user_prompt se lo pasamos a la función que detecta que función vamos a utilizar para adquirir la información y luego realizamos la llamada a la misma"
   ]
  },
  {
   "cell_type": "code",
   "execution_count": null,
   "metadata": {},
   "outputs": [
    {
     "name": "stdout",
     "output_type": "stream",
     "text": [
      "Your complaint has been filed, and a copy has been emailed to you. You should receive an email shortly with the details.\n"
     ]
    }
   ],
   "source": [
    "# Scenario 1: File a complaint\n",
    "\n",
    "user_prompt = \"This is John Doe. I want to file a complaint about my missed flight. It was an unpleasant surprise. Email me a copy of the complaint to john@doe.com.\"\n",
    "output = detect_function(user_prompt)\n",
    "chosen_function = eval(output.function_call.name)\n",
    "\n",
    "params = json.loads(output.function_call.arguments)\n",
    "complaint = chosen_function(**params)\n",
    "\n",
    "output = function_calling(user_prompt, output.function_call.name, complaint)\n",
    "print(output.content)\n"
   ]
  },
  {
   "cell_type": "code",
   "execution_count": null,
   "metadata": {},
   "outputs": [
    {
     "name": "stdout",
     "output_type": "stream",
     "text": [
      "The next flight from Amsterdam (AMS) to New York (JFK) is on February 23, 2024, at 16:20 with KLM (Flight KL643).\n"
     ]
    }
   ],
   "source": [
    "# Scenario 2: Check flight details\n",
    "\n",
    "user_prompt = \"When's the next flight from Amsterdam to New York?\"\n",
    "output = detect_function(user_prompt)\n",
    "\n",
    "\n",
    "# Get info for the next prompt\n",
    "origin = json.loads(output.function_call.arguments).get(\"loc_origin\")\n",
    "destination = json.loads(output.function_call.arguments).get(\"loc_destination\")\n",
    "\n",
    "\n",
    "\n",
    "chosen_function = eval(output.function_call.name)\n",
    "\n",
    "params = json.loads(output.function_call.arguments)\n",
    "flight = chosen_function(**params)\n",
    "\n",
    "\n",
    "output = function_calling(user_prompt, output.function_call.name, flight)\n",
    "print(output.content)\n",
    "\n"
   ]
  },
  {
   "cell_type": "code",
   "execution_count": null,
   "metadata": {},
   "outputs": [
    {
     "name": "stdout",
     "output_type": "stream",
     "text": [
      "{\"loc_origin\": \"AMS\", \"loc_destination\": \"JFK\", \"datetime\": \"2024-02-23 14:28:51.046294\", \"airline\": \"KLM\", \"flight\": \"KL643\", \"booking_reference\": \"ABC123\"}\n",
      "Your flight from AMS to JFK on 2024-02-23 at 14:28:51 with KLM has been successfully booked. Your booking reference is ABC123, and your flight number is KL643.\n"
     ]
    }
   ],
   "source": [
    "# Scenario 3: Book a new flight\n",
    "\n",
    "user_prompt = f\"I want to book a flight from {origin} to {destination} on {flight_datetime} with {flight_airline}\"\n",
    "output = detect_function(user_prompt)\n",
    "\n",
    "chosen_function = eval(output.function_call.name)\n",
    "\n",
    "params = json.loads(output.function_call.arguments)\n",
    "booking = chosen_function(**params)\n",
    "print(booking)\n",
    "\n",
    "output = function_calling(user_prompt, output.function_call.name, booking)\n",
    "print(output.content)"
   ]
  }
 ],
 "metadata": {
  "kernelspec": {
   "display_name": "Python 3",
   "language": "python",
   "name": "python3"
  },
  "language_info": {
   "codemirror_mode": {
    "name": "ipython",
    "version": 3
   },
   "file_extension": ".py",
   "mimetype": "text/x-python",
   "name": "python",
   "nbconvert_exporter": "python",
   "pygments_lexer": "ipython3",
   "version": "3.10.11"
  }
 },
 "nbformat": 4,
 "nbformat_minor": 2
}
