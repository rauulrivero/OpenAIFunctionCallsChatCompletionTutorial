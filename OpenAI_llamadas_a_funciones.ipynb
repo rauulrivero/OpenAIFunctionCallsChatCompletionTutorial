{
 "cells": [
  {
   "cell_type": "markdown",
   "metadata": {},
   "source": [
    "# Guía básica para las llamadas de función en OpenAI\n",
    "\n",
    "### 1. Configuración inicial"
   ]
  },
  {
   "cell_type": "code",
   "execution_count": 1,
   "metadata": {},
   "outputs": [],
   "source": [
    "from openai import OpenAI\n",
    "import os\n",
    "from dotenv import load_dotenv\n",
    "import json\n",
    "\n",
    "# Cargar las variables de entorno desde el archivo .env\n",
    "load_dotenv()\n",
    "\n",
    "# Configurar la clave de la API de OpenAI\n",
    "client = OpenAI(\n",
    "    api_key=os.getenv(\"OPENAI_API_KEY\"),\n",
    ")"
   ]
  },
  {
   "cell_type": "markdown",
   "metadata": {},
   "source": [
    "\n",
    "### 2. Definir descripciones de funciones\n",
    "Define las descripciones de las funciones que planeas utilizar en tu diálogo. Estas descripciones incluyen el nombre de la función, una breve descripción y detalles sobre los parámetros que espera la función."
   ]
  },
  {
   "cell_type": "code",
   "execution_count": 2,
   "metadata": {},
   "outputs": [],
   "source": [
    "function_descriptions = [\n",
    "    {\n",
    "        \"name\": \"consultar_api_vuelos\",\n",
    "        \"description\": \"Descripción de la función consultar_api_vuelos\",\n",
    "        \"parameters\": {\n",
    "            # Detalles de los parámetros esperados\n",
    "        },\n",
    "    },\n",
    "    # Otras descripciones de funciones...\n",
    "]"
   ]
  },
  {
   "cell_type": "markdown",
   "metadata": {},
   "source": [
    "### 3. Definir las funciones (ejemplo de consulta a una api)"
   ]
  },
  {
   "cell_type": "code",
   "execution_count": 3,
   "metadata": {},
   "outputs": [],
   "source": [
    "import requests\n",
    "\n",
    "def consultar_api_vuelos(url, params=None):\n",
    "    \"\"\"\n",
    "    Realiza una consulta a una API utilizando la URL proporcionada y los parámetros (si los hay).\n",
    "\n",
    "    Args:\n",
    "    - url (str): La URL de la API a la que se va a realizar la consulta.\n",
    "    - params (dict, opcional): Los parámetros de la consulta (por ejemplo, filtros o datos de búsqueda).\n",
    "\n",
    "    Returns:\n",
    "    - dict: Un diccionario que contiene la respuesta de la API, convertida a JSON.\n",
    "    - None: Si ocurrió algún error durante la consulta.\n",
    "    \"\"\"\n",
    "    try:\n",
    "        # Realizar la solicitud GET a la API con los parámetros proporcionados\n",
    "        response = requests.get(url, params=params)\n",
    "\n",
    "        # Verificar si la solicitud fue exitosa (código de estado 200)\n",
    "        if response.status_code == 200:\n",
    "            # Convertir la respuesta a JSON y devolverla\n",
    "            return response.json()\n",
    "        else:\n",
    "            # Imprimir un mensaje de error si la solicitud no fue exitosa\n",
    "            print(f\"Error al consultar la API. Código de estado: {response.status_code}\")\n",
    "            return None\n",
    "    except Exception as e:\n",
    "        # Capturar cualquier excepción que ocurra durante la consulta\n",
    "        print(f\"Error al realizar la consulta a la API: {e}\")\n",
    "        return None\n",
    "    \n",
    "    # OTRAS FUNCIONES...."
   ]
  },
  {
   "cell_type": "markdown",
   "metadata": {},
   "source": [
    "### 4. Interactuar con el modelo de lenguaje"
   ]
  },
  {
   "cell_type": "code",
   "execution_count": 4,
   "metadata": {},
   "outputs": [],
   "source": [
    "user_prompt = \"When's the next flight from Amsterdam to New York?\"\n",
    "\n",
    "completion = client.chat.completions.create(\n",
    "    model=\"gpt-3.5-turbo-0613\",\n",
    "    messages=[{\"role\": \"user\", \"content\": user_prompt}],\n",
    "    functions=function_descriptions,\n",
    "    function_call=\"auto\",  # especificar la llamada de función automática\n",
    ")\n",
    "output = completion.choices[0].message\n"
   ]
  },
  {
   "cell_type": "markdown",
   "metadata": {},
   "source": [
    "### 5. Llamadas de función manual"
   ]
  },
  {
   "cell_type": "code",
   "execution_count": 5,
   "metadata": {},
   "outputs": [
    {
     "ename": "TypeError",
     "evalue": "consultar_api_vuelos() missing 1 required positional argument: 'url'",
     "output_type": "error",
     "traceback": [
      "\u001b[1;31m---------------------------------------------------------------------------\u001b[0m",
      "\u001b[1;31mTypeError\u001b[0m                                 Traceback (most recent call last)",
      "Cell \u001b[1;32mIn[5], line 4\u001b[0m\n\u001b[0;32m      1\u001b[0m params \u001b[38;5;241m=\u001b[39m json\u001b[38;5;241m.\u001b[39mloads(output\u001b[38;5;241m.\u001b[39mfunction_call\u001b[38;5;241m.\u001b[39marguments)\n\u001b[0;32m      3\u001b[0m chosen_function \u001b[38;5;241m=\u001b[39m \u001b[38;5;28meval\u001b[39m(output\u001b[38;5;241m.\u001b[39mfunction_call\u001b[38;5;241m.\u001b[39mname)\n\u001b[1;32m----> 4\u001b[0m flight \u001b[38;5;241m=\u001b[39m chosen_function(\u001b[38;5;241m*\u001b[39m\u001b[38;5;241m*\u001b[39mparams)\n",
      "\u001b[1;31mTypeError\u001b[0m: consultar_api_vuelos() missing 1 required positional argument: 'url'"
     ]
    }
   ],
   "source": [
    "params = json.loads(output.function_call.arguments)\n",
    "\n",
    "chosen_function = eval(output.function_call.name)\n",
    "flight = chosen_function(**params)"
   ]
  },
  {
   "cell_type": "markdown",
   "metadata": {},
   "source": [
    "### 6. Incorporar resultados de función en la respuesta"
   ]
  },
  {
   "cell_type": "code",
   "execution_count": null,
   "metadata": {},
   "outputs": [],
   "source": [
    "second_completion = client.chat.completions.create(\n",
    "    model=\"gpt-3.5-turbo-0613\",\n",
    "    messages=[\n",
    "        {\"role\": \"user\", \"content\": user_prompt},\n",
    "        {\"role\": \"function\", \"name\": output.function_call.name, \"content\": flight},\n",
    "    ],\n",
    "    functions=function_descriptions,\n",
    ")\n",
    "response = second_completion.choices[0].message.content\n"
   ]
  },
  {
   "cell_type": "markdown",
   "metadata": {},
   "source": [
    "### 7. Utilizar la función en un flujo de conversación (estas funciones sirven para realizar lo anterior)\n",
    "Con la primera función obtendremos la función que se va a utilizar y los parámetros recogidos del user_prompt. Con la segunda función obtendremos la salida de la función utilizado y devolveremos el contenido al usuario en formato frase."
   ]
  },
  {
   "cell_type": "code",
   "execution_count": null,
   "metadata": {},
   "outputs": [],
   "source": [
    "def detect_function(prompt):\n",
    "    completion = client.chat.completions.create(\n",
    "        model=\"gpt-3.5-turbo-0613\",\n",
    "        messages=[{\"role\": \"user\", \"content\": prompt}],\n",
    "        functions=function_descriptions,\n",
    "        function_call=\"auto\",  # especificar la llamada de función automática\n",
    "    )\n",
    "    output = completion.choices[0].message\n",
    "    return output\n",
    "\n",
    "def function_calling(prompt, function, content):\n",
    "    \"\"\"Give LLM a given prompt and get an answer.\"\"\"\n",
    "\n",
    "    completion = client.chat.completions.create(\n",
    "        model=\"gpt-3.5-turbo-0613\",\n",
    "        messages=[{\"role\": \"user\", \"content\": prompt},\n",
    "                  {\"role\":\"function\", \"name\": function, \"content\": content}],\n",
    "\n",
    "        functions=function_descriptions,\n",
    "        function_call=\"auto\",  # specify the function call\n",
    "    )\n",
    "\n",
    "    output = completion.choices[0].message\n",
    "    return output\n"
   ]
  },
  {
   "cell_type": "markdown",
   "metadata": {},
   "source": [
    "# EJEMPLO:"
   ]
  },
  {
   "cell_type": "markdown",
   "metadata": {},
   "source": [
    "### 1. Cargamos las librerías y nos conectamos a la api de OpenAI"
   ]
  },
  {
   "cell_type": "code",
   "execution_count": null,
   "metadata": {},
   "outputs": [],
   "source": [
    "from openai import OpenAI\n",
    "import json\n",
    "import os\n",
    "from dotenv import load_dotenv\n",
    "from datetime import datetime, timedelta\n",
    "\n",
    "# Load environment variables from the .env file\n",
    "load_dotenv()\n",
    "\n",
    "# Configure the OpenAI API key\n",
    "client = OpenAI(\n",
    "    api_key=os.getenv\n",
    "    (\"OPENAI_API_KEY\"),\n",
    ")\n",
    "\n",
    "GPT_MODEL = \"gpt-3.5-turbo-1106\""
   ]
  },
  {
   "cell_type": "markdown",
   "metadata": {},
   "source": [
    "### 2. Describimos las funciones que vamos a utilizar"
   ]
  },
  {
   "cell_type": "code",
   "execution_count": null,
   "metadata": {},
   "outputs": [],
   "source": [
    "\n",
    "function_descriptions = [\n",
    "    {\n",
    "        \"name\": \"get_flight_info\",\n",
    "        \"description\": \"Get flight information between two locations\",\n",
    "        \"parameters\": {\n",
    "            \"type\": \"object\",\n",
    "            \"properties\": {\n",
    "                \"loc_origin\": {\n",
    "                    \"type\": \"string\",\n",
    "                    \"description\": \"The departure airport, e.g. DUS\",\n",
    "                },\n",
    "                \"loc_destination\": {\n",
    "                    \"type\": \"string\",\n",
    "                    \"description\": \"The destination airport, e.g. HAM\",\n",
    "                },\n",
    "            },\n",
    "            \"required\": [\"loc_origin\", \"loc_destination\"],\n",
    "        },\n",
    "    },\n",
    "    {\n",
    "        \"name\": \"book_flight\",\n",
    "        \"description\": \"Book a flight based on flight information\",\n",
    "        \"parameters\": {\n",
    "            \"type\": \"object\",\n",
    "            \"properties\": {\n",
    "                \"loc_origin\": {\n",
    "                    \"type\": \"string\",\n",
    "                    \"description\": \"The departure airport, e.g. DUS\",\n",
    "                },\n",
    "                \"loc_destination\": {\n",
    "                    \"type\": \"string\",\n",
    "                    \"description\": \"The destination airport, e.g. HAM\",\n",
    "                },\n",
    "                \"datetime\": {\n",
    "                    \"type\": \"string\",\n",
    "                    \"description\": \"The date and time of the flight, e.g. 2023-01-01 01:01\",\n",
    "                },\n",
    "                \"airline\": {\n",
    "                    \"type\": \"string\",\n",
    "                    \"description\": \"The service airline, e.g. Lufthansa\",\n",
    "                },\n",
    "            },\n",
    "            \"required\": [\"loc_origin\", \"loc_destination\", \"datetime\", \"airline\"],\n",
    "        },\n",
    "    },\n",
    "    {\n",
    "        \"name\": \"file_complaint\",\n",
    "        \"description\": \"File a complaint as a customer\",\n",
    "        \"parameters\": {\n",
    "            \"type\": \"object\",\n",
    "            \"properties\": {\n",
    "                \"name\": {\n",
    "                    \"type\": \"string\",\n",
    "                    \"description\": \"The name of the user, e.g. John Doe\",\n",
    "                },\n",
    "                \"email\": {\n",
    "                    \"type\": \"string\",\n",
    "                    \"description\": \"The email address of the user, e.g. john@doe.com\",\n",
    "                },\n",
    "                \"text\": {\n",
    "                    \"type\": \"string\",\n",
    "                    \"description\": \"Description of issue\",\n",
    "                },\n",
    "            },\n",
    "            \"required\": [\"name\", \"email\", \"text\"],\n",
    "        },\n",
    "    },\n",
    "]\n"
   ]
  },
  {
   "cell_type": "markdown",
   "metadata": {},
   "source": [
    "### 3. Definimos las funciones (en este caso se han creado ejemplos de respuesta de consulta de una api)"
   ]
  },
  {
   "cell_type": "code",
   "execution_count": null,
   "metadata": {},
   "outputs": [],
   "source": [
    "def get_flight_info(loc_origin, loc_destination):\n",
    "    \"\"\"Get flight information between two locations.\"\"\"\n",
    "\n",
    "    # Example output returned from an API or database\n",
    "    flight_info = {\n",
    "        \"loc_origin\": loc_origin,\n",
    "        \"loc_destination\": loc_destination,\n",
    "        \"datetime\": str(datetime.now() + timedelta(hours=2)),\n",
    "        \"airline\": \"KLM\",\n",
    "        \"flight\": \"KL643\",\n",
    "    }\n",
    "\n",
    "    return json.dumps(flight_info)\n",
    "\n",
    "def book_flight(loc_origin, loc_destination, datetime, airline):\n",
    "    \"\"\"Book a flight based on flight information.\"\"\"\n",
    "\n",
    "    # Example output returned from an API or database\n",
    "    booking_info = {\n",
    "        \"loc_origin\": loc_origin,\n",
    "        \"loc_destination\": loc_destination,\n",
    "        \"datetime\": datetime,\n",
    "        \"airline\": airline,\n",
    "        \"flight\": \"KL643\",\n",
    "        \"booking_reference\": \"ABC123\",\n",
    "    }\n",
    "\n",
    "    return json.dumps(booking_info)\n",
    "\n",
    "def file_complaint(name, email, text):\n",
    "    \"\"\"File a complaint as a customer.\"\"\"\n",
    "\n",
    "    # Example output returned from an API or database\n",
    "    complaint_info = {\n",
    "        \"name\": name,\n",
    "        \"email\": email,\n",
    "        \"text\": text,\n",
    "        \"complaint_id\": \"XYZ789\",\n",
    "    }\n",
    "\n",
    "    return json.dumps(complaint_info)"
   ]
  },
  {
   "cell_type": "markdown",
   "metadata": {},
   "source": [
    "### 4. Definimos las funciones que vamos a usar para detectar la función que requiere el user_prompt y la respuesta generada."
   ]
  },
  {
   "cell_type": "code",
   "execution_count": null,
   "metadata": {},
   "outputs": [],
   "source": [
    "def detect_function(prompt):\n",
    "    \"\"\"Give LLM a given prompt and get an answer.\"\"\"\n",
    "\n",
    "    completion = client.chat.completions.create(\n",
    "        model=GPT_MODEL,\n",
    "        messages=[{\"role\": \"user\", \"content\": prompt}],\n",
    "\n",
    "        functions=function_descriptions,\n",
    "        function_call=\"auto\",  # specify the function call\n",
    "    )\n",
    "\n",
    "    output = completion.choices[0].message\n",
    "    return output\n",
    "\n",
    "def function_calling(prompt, function, content):\n",
    "    \"\"\"Give LLM a given prompt and get an answer.\"\"\"\n",
    "\n",
    "    completion = client.chat.completions.create(\n",
    "        model=GPT_MODEL,\n",
    "        messages=[{\"role\": \"user\", \"content\": prompt},\n",
    "                  {\"role\":\"function\", \"name\": function, \"content\": content}],\n",
    "\n",
    "        functions=function_descriptions,\n",
    "        function_call=\"auto\",  # specify the function call\n",
    "    )\n",
    "\n",
    "    output = completion.choices[0].message\n",
    "    return output\n"
   ]
  },
  {
   "cell_type": "markdown",
   "metadata": {},
   "source": [
    "### Creamos ejemplos de user_prompt se lo pasamos a la función que detecta que función vamos a utilizar para adquirir la información y luego realizamos la llamada a la misma"
   ]
  },
  {
   "cell_type": "code",
   "execution_count": null,
   "metadata": {},
   "outputs": [
    {
     "name": "stdout",
     "output_type": "stream",
     "text": [
      "Your complaint has been filed, and a copy has been emailed to you. You should receive an email shortly with the details.\n"
     ]
    }
   ],
   "source": [
    "# Scenario 1: File a complaint\n",
    "\n",
    "user_prompt = \"This is John Doe. I want to file a complaint about my missed flight. It was an unpleasant surprise. Email me a copy of the complaint to john@doe.com.\"\n",
    "output = detect_function(user_prompt)\n",
    "chosen_function = eval(output.function_call.name)\n",
    "\n",
    "params = json.loads(output.function_call.arguments)\n",
    "complaint = chosen_function(**params)\n",
    "\n",
    "output = function_calling(user_prompt, output.function_call.name, complaint)\n",
    "print(output.content)\n"
   ]
  },
  {
   "cell_type": "code",
   "execution_count": null,
   "metadata": {},
   "outputs": [
    {
     "name": "stdout",
     "output_type": "stream",
     "text": [
      "The next flight from Amsterdam (AMS) to New York (JFK) is on February 23, 2024, at 16:20 with KLM (Flight KL643).\n"
     ]
    }
   ],
   "source": [
    "# Scenario 2: Check flight details\n",
    "\n",
    "user_prompt = \"When's the next flight from Amsterdam to New York?\"\n",
    "output = detect_function(user_prompt)\n",
    "\n",
    "\n",
    "# Get info for the next prompt\n",
    "origin = json.loads(output.function_call.arguments).get(\"loc_origin\")\n",
    "destination = json.loads(output.function_call.arguments).get(\"loc_destination\")\n",
    "flight_datetime = json.loads(flight).get(\"datetime\")\n",
    "flight_airline = json.loads(flight).get(\"airline\")\n",
    "\n",
    "\n",
    "\n",
    "chosen_function = eval(output.function_call.name)\n",
    "\n",
    "params = json.loads(output.function_call.arguments)\n",
    "flight = chosen_function(**params)\n",
    "\n",
    "output = function_calling(user_prompt, output.function_call.name, flight)\n",
    "print(output.content)\n",
    "\n"
   ]
  },
  {
   "cell_type": "code",
   "execution_count": null,
   "metadata": {},
   "outputs": [
    {
     "name": "stdout",
     "output_type": "stream",
     "text": [
      "{\"loc_origin\": \"AMS\", \"loc_destination\": \"JFK\", \"datetime\": \"2024-02-23 14:28:51.046294\", \"airline\": \"KLM\", \"flight\": \"KL643\", \"booking_reference\": \"ABC123\"}\n",
      "Your flight from AMS to JFK on 2024-02-23 at 14:28:51 with KLM has been successfully booked. Your booking reference is ABC123, and your flight number is KL643.\n"
     ]
    }
   ],
   "source": [
    "# Scenario 3: Book a new flight\n",
    "\n",
    "user_prompt = f\"I want to book a flight from {origin} to {destination} on {flight_datetime} with {flight_airline}\"\n",
    "output = detect_function(user_prompt)\n",
    "\n",
    "chosen_function = eval(output.function_call.name)\n",
    "\n",
    "params = json.loads(output.function_call.arguments)\n",
    "booking = chosen_function(**params)\n",
    "print(booking)\n",
    "\n",
    "output = function_calling(user_prompt, output.function_call.name, booking)\n",
    "print(output.content)"
   ]
  },
  {
   "cell_type": "markdown",
   "metadata": {},
   "source": [
    "## Bibliografía"
   ]
  },
  {
   "cell_type": "markdown",
   "metadata": {},
   "source": [
    "Vídeo interesante: \"OpenAI Function Calling - Full Beginner Tutorial\" https://www.youtube.com/watch?v=aqdWSYWC_LI\n"
   ]
  },
  {
   "cell_type": "markdown",
   "metadata": {},
   "source": [
    "Página de referencia: https://cookbook.openai.com/examples/how_to_call_functions_with_chat_models"
   ]
  }
 ],
 "metadata": {
  "kernelspec": {
   "display_name": "Python 3",
   "language": "python",
   "name": "python3"
  },
  "language_info": {
   "codemirror_mode": {
    "name": "ipython",
    "version": 3
   },
   "file_extension": ".py",
   "mimetype": "text/x-python",
   "name": "python",
   "nbconvert_exporter": "python",
   "pygments_lexer": "ipython3",
   "version": "3.10.11"
  }
 },
 "nbformat": 4,
 "nbformat_minor": 2
}
